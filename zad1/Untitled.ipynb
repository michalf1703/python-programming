{
 "cells": [
  {
   "cell_type": "code",
   "execution_count": 10,
   "id": "8bdfeb9c-f424-4879-b5b5-56a952f95bc0",
   "metadata": {},
   "outputs": [
    {
     "name": "stdout",
     "output_type": "stream",
     "text": [
      "Liczba wystąpień 'M' w kolumnie 'sex': 1528\n",
      "Liczba wystąpień 'F' w kolumnie 'sex': 1307\n",
      "Liczba wystąpień 'I' w kolumnie 'sex': 1342\n",
      "Liczba wszystkich wystąpień:  4177\n"
     ]
    },
    {
     "data": {
      "text/html": [
       "<div>\n",
       "<style scoped>\n",
       "    .dataframe tbody tr th:only-of-type {\n",
       "        vertical-align: middle;\n",
       "    }\n",
       "\n",
       "    .dataframe tbody tr th {\n",
       "        vertical-align: top;\n",
       "    }\n",
       "\n",
       "    .dataframe thead th {\n",
       "        text-align: right;\n",
       "    }\n",
       "</style>\n",
       "<table border=\"1\" class=\"dataframe\">\n",
       "  <thead>\n",
       "    <tr style=\"text-align: right;\">\n",
       "      <th></th>\n",
       "      <th>count</th>\n",
       "      <th>%</th>\n",
       "    </tr>\n",
       "  </thead>\n",
       "  <tbody>\n",
       "    <tr>\n",
       "      <th>Male</th>\n",
       "      <td>1528</td>\n",
       "      <td>36.58</td>\n",
       "    </tr>\n",
       "    <tr>\n",
       "      <th>Infant</th>\n",
       "      <td>1342</td>\n",
       "      <td>32.13</td>\n",
       "    </tr>\n",
       "    <tr>\n",
       "      <th>Female</th>\n",
       "      <td>1307</td>\n",
       "      <td>31.29</td>\n",
       "    </tr>\n",
       "  </tbody>\n",
       "</table>\n",
       "</div>"
      ],
      "text/plain": [
       "        count      %\n",
       "Male     1528  36.58\n",
       "Infant   1342  32.13\n",
       "Female   1307  31.29"
      ]
     },
     "execution_count": 10,
     "metadata": {},
     "output_type": "execute_result"
    }
   ],
   "source": [
    "import numpy as np\n",
    "import matplotlib.pyplot as plt\n",
    "import pandas as pd\n",
    "\n",
    "# Wczytaj dane z pliku CSV\n",
    "dtype = [('sex', 'U10'), ('variable_name', 'f8'), ('arithmetic_mean', 'f8'), ('standard_deviation', 'f8'), ('min_value', 'f8'), ('first_quartile', 'f8'), ('second_quartile', 'f8'), ('third_quartile', 'f8'), ('max_value', 'f8')]\n",
    "data = np.genfromtxt(\"data.csv\", delimiter=\",\", dtype=dtype)\n",
    "\n",
    "# Zlicz wystąpienia 'M' w kolumnie 'sex'\n",
    "count_m = np.count_nonzero(data['sex'] == 'M')\n",
    "count_f = np.count_nonzero(data['sex'] == 'F')\n",
    "count_i = np.count_nonzero(data['sex'] == 'I')\n",
    "# Zlicz łączną ilość wystąpień\n",
    "total_count = count_m + count_f + count_i\n",
    "percent_m = (count_m / total_count) * 100\n",
    "percent_i = (count_i / total_count) * 100\n",
    "percent_f = (count_f / total_count) * 100\n",
    "b = {'count':[count_m, count_i, count_f],'%':[round(percent_m,2),round(percent_i,2),round(percent_f,2)]}\n",
    "df_b = pd.DataFrame(b)\n",
    "df_b.index = ['Male','Infant','Female']\n",
    "df_b\n"
   ]
  },
  {
   "cell_type": "code",
   "execution_count": null,
   "id": "2b96bb81-f531-4139-b242-8de147dbecc2",
   "metadata": {},
   "outputs": [],
   "source": []
  }
 ],
 "metadata": {
  "kernelspec": {
   "display_name": "Python 3 (ipykernel)",
   "language": "python",
   "name": "python3"
  },
  "language_info": {
   "codemirror_mode": {
    "name": "ipython",
    "version": 3
   },
   "file_extension": ".py",
   "mimetype": "text/x-python",
   "name": "python",
   "nbconvert_exporter": "python",
   "pygments_lexer": "ipython3",
   "version": "3.11.0"
  }
 },
 "nbformat": 4,
 "nbformat_minor": 5
}
